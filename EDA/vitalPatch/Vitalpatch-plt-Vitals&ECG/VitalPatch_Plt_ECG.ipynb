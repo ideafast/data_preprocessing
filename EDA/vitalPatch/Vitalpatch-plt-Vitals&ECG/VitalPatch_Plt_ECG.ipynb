{
 "cells": [
  {
   "cell_type": "code",
   "execution_count": 55,
   "metadata": {},
   "outputs": [],
   "source": [
    "# Importing Libraries\n",
    "import pandas as pd  \n",
    "import numpy as np  \n",
    "import matplotlib.pyplot as plt  \n",
    "import seaborn as seabornInstance \n",
    "from sklearn.model_selection import train_test_split \n",
    "from sklearn.linear_model import LinearRegression\n",
    "from sklearn import metrics"
   ]
  },
  {
   "cell_type": "code",
   "execution_count": 56,
   "metadata": {},
   "outputs": [
    {
     "name": "stdout",
     "output_type": "stream",
     "text": [
      "(5605145, 2)\n"
     ]
    },
    {
     "data": {
      "text/html": [
       "<div>\n",
       "<style scoped>\n",
       "    .dataframe tbody tr th:only-of-type {\n",
       "        vertical-align: middle;\n",
       "    }\n",
       "\n",
       "    .dataframe tbody tr th {\n",
       "        vertical-align: top;\n",
       "    }\n",
       "\n",
       "    .dataframe thead th {\n",
       "        text-align: right;\n",
       "    }\n",
       "</style>\n",
       "<table border=\"1\" class=\"dataframe\">\n",
       "  <thead>\n",
       "    <tr style=\"text-align: right;\">\n",
       "      <th></th>\n",
       "      <th>0</th>\n",
       "      <th>1</th>\n",
       "    </tr>\n",
       "  </thead>\n",
       "  <tbody>\n",
       "    <tr>\n",
       "      <th>0</th>\n",
       "      <td>1593682768041</td>\n",
       "      <td>37</td>\n",
       "    </tr>\n",
       "    <tr>\n",
       "      <th>1</th>\n",
       "      <td>1593682768049</td>\n",
       "      <td>-132</td>\n",
       "    </tr>\n",
       "    <tr>\n",
       "      <th>2</th>\n",
       "      <td>1593682768057</td>\n",
       "      <td>212</td>\n",
       "    </tr>\n",
       "    <tr>\n",
       "      <th>3</th>\n",
       "      <td>1593682768065</td>\n",
       "      <td>-122</td>\n",
       "    </tr>\n",
       "    <tr>\n",
       "      <th>4</th>\n",
       "      <td>1593682768073</td>\n",
       "      <td>-254</td>\n",
       "    </tr>\n",
       "    <tr>\n",
       "      <th>...</th>\n",
       "      <td>...</td>\n",
       "      <td>...</td>\n",
       "    </tr>\n",
       "    <tr>\n",
       "      <th>5605140</th>\n",
       "      <td>1593727034009</td>\n",
       "      <td>-42</td>\n",
       "    </tr>\n",
       "    <tr>\n",
       "      <th>5605141</th>\n",
       "      <td>1593727034017</td>\n",
       "      <td>-42</td>\n",
       "    </tr>\n",
       "    <tr>\n",
       "      <th>5605142</th>\n",
       "      <td>1593727034025</td>\n",
       "      <td>-39</td>\n",
       "    </tr>\n",
       "    <tr>\n",
       "      <th>5605143</th>\n",
       "      <td>1593727034033</td>\n",
       "      <td>-49</td>\n",
       "    </tr>\n",
       "    <tr>\n",
       "      <th>5605144</th>\n",
       "      <td>1593727034041</td>\n",
       "      <td>-49</td>\n",
       "    </tr>\n",
       "  </tbody>\n",
       "</table>\n",
       "<p>5605145 rows × 2 columns</p>\n",
       "</div>"
      ],
      "text/plain": [
       "                     0    1\n",
       "0        1593682768041   37\n",
       "1        1593682768049 -132\n",
       "2        1593682768057  212\n",
       "3        1593682768065 -122\n",
       "4        1593682768073 -254\n",
       "...                ...  ...\n",
       "5605140  1593727034009  -42\n",
       "5605141  1593727034017  -42\n",
       "5605142  1593727034025  -39\n",
       "5605143  1593727034033  -49\n",
       "5605144  1593727034041  -49\n",
       "\n",
       "[5605145 rows x 2 columns]"
      ]
     },
     "execution_count": 56,
     "metadata": {},
     "output_type": "execute_result"
    }
   ],
   "source": [
    "# Reading the ECG dataset\n",
    "datasetEcg = pd.read_csv('../output/VC2B008BF_029550_ecg.csv', header=None)\n",
    "\n",
    "# See the shape of the dataset\n",
    "print(datasetEcg.shape)\n",
    "\n",
    "datasetEcg"
   ]
  },
  {
   "cell_type": "code",
   "execution_count": 72,
   "metadata": {},
   "outputs": [
    {
     "name": "stdout",
     "output_type": "stream",
     "text": [
      "(5605144, 2)\n"
     ]
    },
    {
     "data": {
      "text/html": [
       "<div>\n",
       "<style scoped>\n",
       "    .dataframe tbody tr th:only-of-type {\n",
       "        vertical-align: middle;\n",
       "    }\n",
       "\n",
       "    .dataframe tbody tr th {\n",
       "        vertical-align: top;\n",
       "    }\n",
       "\n",
       "    .dataframe thead th {\n",
       "        text-align: right;\n",
       "    }\n",
       "</style>\n",
       "<table border=\"1\" class=\"dataframe\">\n",
       "  <thead>\n",
       "    <tr style=\"text-align: right;\">\n",
       "      <th></th>\n",
       "      <th>TimeStamp</th>\n",
       "      <th>ECG Values</th>\n",
       "    </tr>\n",
       "  </thead>\n",
       "  <tbody>\n",
       "    <tr>\n",
       "      <th>0</th>\n",
       "      <td>1593682768049</td>\n",
       "      <td>-132</td>\n",
       "    </tr>\n",
       "    <tr>\n",
       "      <th>1</th>\n",
       "      <td>1593682768057</td>\n",
       "      <td>212</td>\n",
       "    </tr>\n",
       "    <tr>\n",
       "      <th>2</th>\n",
       "      <td>1593682768065</td>\n",
       "      <td>-122</td>\n",
       "    </tr>\n",
       "    <tr>\n",
       "      <th>3</th>\n",
       "      <td>1593682768073</td>\n",
       "      <td>-254</td>\n",
       "    </tr>\n",
       "    <tr>\n",
       "      <th>4</th>\n",
       "      <td>1593682768081</td>\n",
       "      <td>728</td>\n",
       "    </tr>\n",
       "    <tr>\n",
       "      <th>...</th>\n",
       "      <td>...</td>\n",
       "      <td>...</td>\n",
       "    </tr>\n",
       "    <tr>\n",
       "      <th>5605139</th>\n",
       "      <td>1593727034009</td>\n",
       "      <td>-42</td>\n",
       "    </tr>\n",
       "    <tr>\n",
       "      <th>5605140</th>\n",
       "      <td>1593727034017</td>\n",
       "      <td>-42</td>\n",
       "    </tr>\n",
       "    <tr>\n",
       "      <th>5605141</th>\n",
       "      <td>1593727034025</td>\n",
       "      <td>-39</td>\n",
       "    </tr>\n",
       "    <tr>\n",
       "      <th>5605142</th>\n",
       "      <td>1593727034033</td>\n",
       "      <td>-49</td>\n",
       "    </tr>\n",
       "    <tr>\n",
       "      <th>5605143</th>\n",
       "      <td>1593727034041</td>\n",
       "      <td>-49</td>\n",
       "    </tr>\n",
       "  </tbody>\n",
       "</table>\n",
       "<p>5605144 rows × 2 columns</p>\n",
       "</div>"
      ],
      "text/plain": [
       "             TimeStamp  ECG Values\n",
       "0        1593682768049        -132\n",
       "1        1593682768057         212\n",
       "2        1593682768065        -122\n",
       "3        1593682768073        -254\n",
       "4        1593682768081         728\n",
       "...                ...         ...\n",
       "5605139  1593727034009         -42\n",
       "5605140  1593727034017         -42\n",
       "5605141  1593727034025         -39\n",
       "5605142  1593727034033         -49\n",
       "5605143  1593727034041         -49\n",
       "\n",
       "[5605144 rows x 2 columns]"
      ]
     },
     "execution_count": 72,
     "metadata": {},
     "output_type": "execute_result"
    }
   ],
   "source": [
    "# Reading the Vital dataset and adding suitable header for each column\n",
    "datasetEcg = pd.read_csv('./output/VC2B008BF_029550_ecg.csv')\n",
    "datasetEcg.columns = ['TimeStamp', 'ECG Values']\n",
    "\n",
    "# See the shape of the dataset\n",
    "print(datasetEcg.shape)\n",
    "\n",
    "datasetEcg"
   ]
  },
  {
   "cell_type": "code",
   "execution_count": 73,
   "metadata": {},
   "outputs": [
    {
     "data": {
      "text/html": [
       "<div>\n",
       "<style scoped>\n",
       "    .dataframe tbody tr th:only-of-type {\n",
       "        vertical-align: middle;\n",
       "    }\n",
       "\n",
       "    .dataframe tbody tr th {\n",
       "        vertical-align: top;\n",
       "    }\n",
       "\n",
       "    .dataframe thead th {\n",
       "        text-align: right;\n",
       "    }\n",
       "</style>\n",
       "<table border=\"1\" class=\"dataframe\">\n",
       "  <thead>\n",
       "    <tr style=\"text-align: right;\">\n",
       "      <th></th>\n",
       "      <th>TimeStamp</th>\n",
       "      <th>ECG Values</th>\n",
       "    </tr>\n",
       "  </thead>\n",
       "  <tbody>\n",
       "    <tr>\n",
       "      <th>count</th>\n",
       "      <td>5.605144e+06</td>\n",
       "      <td>5.605144e+06</td>\n",
       "    </tr>\n",
       "    <tr>\n",
       "      <th>mean</th>\n",
       "      <td>1.593705e+12</td>\n",
       "      <td>3.397375e+01</td>\n",
       "    </tr>\n",
       "    <tr>\n",
       "      <th>std</th>\n",
       "      <td>1.280069e+07</td>\n",
       "      <td>2.171639e+02</td>\n",
       "    </tr>\n",
       "    <tr>\n",
       "      <th>min</th>\n",
       "      <td>1.593683e+12</td>\n",
       "      <td>-5.032000e+03</td>\n",
       "    </tr>\n",
       "    <tr>\n",
       "      <th>25%</th>\n",
       "      <td>1.593694e+12</td>\n",
       "      <td>-5.600000e+01</td>\n",
       "    </tr>\n",
       "    <tr>\n",
       "      <th>50%</th>\n",
       "      <td>1.593705e+12</td>\n",
       "      <td>1.500000e+01</td>\n",
       "    </tr>\n",
       "    <tr>\n",
       "      <th>75%</th>\n",
       "      <td>1.593716e+12</td>\n",
       "      <td>1.220000e+02</td>\n",
       "    </tr>\n",
       "    <tr>\n",
       "      <th>max</th>\n",
       "      <td>1.593727e+12</td>\n",
       "      <td>7.668000e+03</td>\n",
       "    </tr>\n",
       "  </tbody>\n",
       "</table>\n",
       "</div>"
      ],
      "text/plain": [
       "          TimeStamp    ECG Values\n",
       "count  5.605144e+06  5.605144e+06\n",
       "mean   1.593705e+12  3.397375e+01\n",
       "std    1.280069e+07  2.171639e+02\n",
       "min    1.593683e+12 -5.032000e+03\n",
       "25%    1.593694e+12 -5.600000e+01\n",
       "50%    1.593705e+12  1.500000e+01\n",
       "75%    1.593716e+12  1.220000e+02\n",
       "max    1.593727e+12  7.668000e+03"
      ]
     },
     "execution_count": 73,
     "metadata": {},
     "output_type": "execute_result"
    }
   ],
   "source": [
    "# Some statitistics of the dataset\n",
    "datasetEcg.describe()"
   ]
  },
  {
   "cell_type": "code",
   "execution_count": 74,
   "metadata": {},
   "outputs": [
    {
     "data": {
      "text/plain": [
       "(array([-200.,    0.,  200.,  400.,  600.,  800., 1000., 1200.]),\n",
       " <a list of 8 Text major ticklabel objects>)"
      ]
     },
     "execution_count": 74,
     "metadata": {},
     "output_type": "execute_result"
    },
    {
     "data": {
      "image/png": "[encoded data removed]",
      "text/plain": [
       "<Figure size 432x288 with 1 Axes>"
      ]
     },
     "metadata": {
      "needs_background": "light"
     },
     "output_type": "display_data"
    }
   ],
   "source": [
    "# plot 125 meaturmnets in 1000 ms (1seconds)\n",
    "# to do: read this one: https://imotions.com/blog/heart-rate-variability/\n",
    "n1 = 600;\n",
    "n2 = 725;\n",
    "X1 = datasetEcg['TimeStamp'].iloc[n1:n2]\n",
    "X = X1-X1.iloc[0]\n",
    "Y = datasetEcg['ECG Values'].iloc[n1:n2]\n",
    "plt.plot(X, Y, linestyle='dashdot', color= '#117733')\n",
    "plt.xlabel('Time (ms)')\n",
    "plt.ylabel('Ecg Values')\n",
    "plt.xticks(rotation='vertical')"
   ]
  },
  {
   "cell_type": "markdown",
   "metadata": {},
   "source": [
    "# Conclusion"
   ]
  },
  {
   "cell_type": "raw",
   "metadata": {},
   "source": [
    "# The ECG value is in mili voltage (mV)\n",
    "# We have 1 ECG value (meaturment) in every 8 ms.\n",
    "# If we have 125 measurements, it takes 125*8 = 1000ms time, which is equivalent to one second\n",
    "# This means 125 meaturments per seconds.\n",
    "# This means frequency of the measurments is 125 per second."
   ]
  }
 ],
 "metadata": {
  "kernelspec": {
   "display_name": "Python 3",
   "language": "python",
   "name": "python3"
  },
  "language_info": {
   "codemirror_mode": {
    "name": "ipython",
    "version": 3
   },
   "file_extension": ".py",
   "mimetype": "text/x-python",
   "name": "python",
   "nbconvert_exporter": "python",
   "pygments_lexer": "ipython3",
   "version": "3.8.3"
  }
 },
 "nbformat": 4,
 "nbformat_minor": 4
}
